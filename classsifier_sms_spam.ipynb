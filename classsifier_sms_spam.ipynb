{
 "cells": [
  {
   "cell_type": "code",
   "execution_count": 45,
   "id": "c7293843",
   "metadata": {},
   "outputs": [
    {
     "name": "stderr",
     "output_type": "stream",
     "text": [
      "[nltk_data] Downloading package stopwords to\n",
      "[nltk_data]     C:\\Users\\PraveenAnandhanathan\\AppData\\Roaming\\nltk_dat\n",
      "[nltk_data]     a...\n",
      "[nltk_data]   Package stopwords is already up-to-date!\n"
     ]
    }
   ],
   "source": [
    "import re\n",
    "import nltk\n",
    "from nltk.corpus import stopwords as stw\n",
    "nltk.download('stopwords')\n",
    "\n",
    "from nltk.stem.porter import PorterStemmer\n",
    "ps = PorterStemmer()\n",
    "\n",
    "from sklearn.feature_extraction.text import CountVectorizer, TfidfVectorizer, HashingVectorizer\n",
    "\n",
    "import numpy as np\n",
    "import matplotlib.pyplot as plt\n",
    "import pandas as pd\n",
    "from sklearn.preprocessing import LabelEncoder\n",
    "labelenc = LabelEncoder()\n",
    "\n",
    "from sklearn.metrics import confusion_matrix\n",
    "from sklearn.metrics import accuracy_score\n",
    "from sklearn.metrics import precision_score\n",
    "from sklearn.metrics import recall_score\n",
    "from sklearn.metrics import f1_score\n",
    "from sklearn.metrics import r2_score\n",
    "from sklearn.metrics import mean_squared_error\n",
    "from sklearn.metrics import mean_absolute_error\n",
    "from math import sqrt\n",
    "\n",
    "import pickle\n",
    "from keras.models import load_model"
   ]
  },
  {
   "cell_type": "code",
   "execution_count": 2,
   "id": "04d6cec5",
   "metadata": {},
   "outputs": [
    {
     "data": {
      "text/html": [
       "<div>\n",
       "<style scoped>\n",
       "    .dataframe tbody tr th:only-of-type {\n",
       "        vertical-align: middle;\n",
       "    }\n",
       "\n",
       "    .dataframe tbody tr th {\n",
       "        vertical-align: top;\n",
       "    }\n",
       "\n",
       "    .dataframe thead th {\n",
       "        text-align: right;\n",
       "    }\n",
       "</style>\n",
       "<table border=\"1\" class=\"dataframe\">\n",
       "  <thead>\n",
       "    <tr style=\"text-align: right;\">\n",
       "      <th></th>\n",
       "      <th>class</th>\n",
       "      <th>sms</th>\n",
       "    </tr>\n",
       "  </thead>\n",
       "  <tbody>\n",
       "    <tr>\n",
       "      <th>0</th>\n",
       "      <td>ham</td>\n",
       "      <td>Go until jurong point, crazy.. Available only ...</td>\n",
       "    </tr>\n",
       "    <tr>\n",
       "      <th>1</th>\n",
       "      <td>ham</td>\n",
       "      <td>Ok lar... Joking wif u oni...</td>\n",
       "    </tr>\n",
       "    <tr>\n",
       "      <th>2</th>\n",
       "      <td>spam</td>\n",
       "      <td>Free entry in 2 a wkly comp to win FA Cup fina...</td>\n",
       "    </tr>\n",
       "    <tr>\n",
       "      <th>3</th>\n",
       "      <td>ham</td>\n",
       "      <td>U dun say so early hor... U c already then say...</td>\n",
       "    </tr>\n",
       "    <tr>\n",
       "      <th>4</th>\n",
       "      <td>ham</td>\n",
       "      <td>Nah I don't think he goes to usf, he lives aro...</td>\n",
       "    </tr>\n",
       "  </tbody>\n",
       "</table>\n",
       "</div>"
      ],
      "text/plain": [
       "  class                                                sms\n",
       "0   ham  Go until jurong point, crazy.. Available only ...\n",
       "1   ham                      Ok lar... Joking wif u oni...\n",
       "2  spam  Free entry in 2 a wkly comp to win FA Cup fina...\n",
       "3   ham  U dun say so early hor... U c already then say...\n",
       "4   ham  Nah I don't think he goes to usf, he lives aro..."
      ]
     },
     "execution_count": 2,
     "metadata": {},
     "output_type": "execute_result"
    }
   ],
   "source": [
    "data = pd.read_csv('smsspamcollection\\SMSSpamCollection', delimiter='\\t', header = None, names = ['class', 'sms'])\n",
    "data.head()"
   ]
  },
  {
   "cell_type": "code",
   "execution_count": 3,
   "id": "e16f45a0",
   "metadata": {},
   "outputs": [
    {
     "data": {
      "text/plain": [
       "array(['ham', 'spam'], dtype=object)"
      ]
     },
     "execution_count": 3,
     "metadata": {},
     "output_type": "execute_result"
    }
   ],
   "source": [
    "data['class'].unique() #Finding how many classification in the dataset"
   ]
  },
  {
   "cell_type": "code",
   "execution_count": 4,
   "id": "a417a3b5",
   "metadata": {},
   "outputs": [
    {
     "data": {
      "text/plain": [
       "5572"
      ]
     },
     "execution_count": 4,
     "metadata": {},
     "output_type": "execute_result"
    }
   ],
   "source": [
    "shape = list(data.shape)\n",
    "shape[0]"
   ]
  },
  {
   "cell_type": "code",
   "execution_count": 5,
   "id": "0ad1f86e",
   "metadata": {},
   "outputs": [
    {
     "data": {
      "text/plain": [
       "['go jurong point crazi avail bugi n great world la e buffet cine got amor wat',\n",
       " 'ok lar joke wif u oni',\n",
       " 'free entri wkli comp win fa cup final tkt st may text fa receiv entri question std txt rate c appli',\n",
       " 'u dun say earli hor u c alreadi say',\n",
       " 'nah think goe usf live around though']"
      ]
     },
     "execution_count": 5,
     "metadata": {},
     "output_type": "execute_result"
    }
   ],
   "source": [
    "corpus = []\n",
    "for i in range(0, shape[0]):\n",
    "    sms = re.sub('[^a-zA-Z]', ' ', data['sms'][i])\n",
    "    sms = sms.lower()\n",
    "    sms = sms.split()\n",
    "    sms = [ps.stem(word) for word in sms if not word in set(stw.words('english'))]\n",
    "    sms = ' '.join(sms)\n",
    "    corpus.append(sms)\n",
    "corpus[:5]"
   ]
  },
  {
   "cell_type": "code",
   "execution_count": 6,
   "id": "80b2a8ec",
   "metadata": {},
   "outputs": [],
   "source": [
    "cv = CountVectorizer(max_features = 10000) #Count Vectorization\n",
    "tfidf =  TfidfVectorizer(max_features=10000, ngram_range=(1,3)) #TFIDF Vectorization\n",
    "hvectorizer = HashingVectorizer(n_features=10000) #Hash Vectorization\n",
    "\n",
    "X = tfidf.fit_transform(corpus).toarray()\n",
    "\n",
    "# X = np.array(corpus)\n",
    "\n",
    "Y = data.iloc[:, 0].values\n",
    "Y = labelenc.fit_transform(Y)"
   ]
  },
  {
   "cell_type": "code",
   "execution_count": 7,
   "id": "b0981fae",
   "metadata": {},
   "outputs": [],
   "source": [
    "#Splitting the dataset\n",
    "from sklearn.model_selection import train_test_split\n",
    "X_train, X_test, Y_train, Y_test = train_test_split(X, Y, test_size = 0.2, random_state = 222)"
   ]
  },
  {
   "cell_type": "markdown",
   "id": "0553ec2b",
   "metadata": {},
   "source": [
    "## Naive Bayesian"
   ]
  },
  {
   "cell_type": "code",
   "execution_count": 8,
   "id": "0c184b93",
   "metadata": {},
   "outputs": [],
   "source": [
    "from sklearn.naive_bayes import GaussianNB\n",
    "nb = GaussianNB()\n",
    "nb.fit(X_train, Y_train)\n",
    "pickle.dump(nb, open('models/naive_model.pkl', 'wb'))"
   ]
  },
  {
   "cell_type": "code",
   "execution_count": 9,
   "id": "4a902418",
   "metadata": {},
   "outputs": [
    {
     "name": "stdout",
     "output_type": "stream",
     "text": [
      "Confusion Matrix:\n",
      "[[889  84]\n",
      " [ 13 129]]\n",
      "Accuracy: 0.9130044843049328\n",
      "Precision: 0.6056338028169014\n",
      "Recall: 0.9084507042253521\n",
      "F1 Score: 0.7267605633802816\n",
      "R^2: 0.21720973321946047\n",
      "Mean Squared Error: 0.08699551569506726\n",
      "Mean Absolute Error: 0.08699551569506726\n",
      "Root Mean Square Error: 0.2949500223683112\n"
     ]
    }
   ],
   "source": [
    "nb_y_pred = nb.predict(X_test)\n",
    "\n",
    "conf = confusion_matrix(Y_test, nb_y_pred)\n",
    "print(\"Confusion Matrix:\")\n",
    "print(conf)\n",
    "nb_acc = accuracy_score(Y_test, nb_y_pred)\n",
    "print(\"Accuracy: \"+str(nb_acc))\n",
    "nb_pre = precision_score(Y_test, nb_y_pred)\n",
    "print(\"Precision: \"+str(nb_pre))\n",
    "nb_rec = recall_score(Y_test, nb_y_pred)\n",
    "print(\"Recall: \"+str(nb_rec))\n",
    "nb_f1 = f1_score(Y_test, nb_y_pred)\n",
    "print(\"F1 Score: \"+str(nb_f1))\n",
    "nb_R2 = r2_score(Y_test, nb_y_pred)\n",
    "print(\"R^2: \"+str(nb_R2))\n",
    "nb_mse = mean_squared_error(Y_test, nb_y_pred)\n",
    "print(\"Mean Squared Error: \"+str(nb_mse))\n",
    "nb_mae = mean_absolute_error(Y_test, nb_y_pred)\n",
    "print(\"Mean Absolute Error: \"+str(nb_mae))\n",
    "nb_rmse = sqrt(mean_squared_error(Y_test, nb_y_pred))\n",
    "print(\"Root Mean Square Error: \"+str(nb_rmse))"
   ]
  },
  {
   "cell_type": "code",
   "execution_count": 10,
   "id": "6ef118c7",
   "metadata": {},
   "outputs": [
    {
     "data": {
      "text/plain": [
       "Text(0.5, 1.0, 'Evaluation Metrics for Naive Bayesian')"
      ]
     },
     "execution_count": 10,
     "metadata": {},
     "output_type": "execute_result"
    },
    {
     "data": {
      "image/png": "[encoded data removed]",
      "text/plain": [
       "<Figure size 432x288 with 1 Axes>"
      ]
     },
     "metadata": {
      "needs_background": "light"
     },
     "output_type": "display_data"
    }
   ],
   "source": [
    "plt.bar(['Acc','Prec','Recall','F1','MSE','MAE','RMSE','R^2'],[nb_acc,nb_pre,nb_rec,nb_f1,nb_mse,nb_mae,nb_rmse,nb_R2],color=['red','green','purple','orange','lavender','blue','grey'])\n",
    "plt.plot([nb_acc,nb_pre,nb_rec,nb_f1,nb_mse,nb_mae,nb_rmse,nb_R2],color='black')\n",
    "plt.title('Evaluation Metrics for Naive Bayesian')"
   ]
  },
  {
   "cell_type": "code",
   "execution_count": null,
   "id": "59a69755",
   "metadata": {},
   "outputs": [],
   "source": []
  },
  {
   "cell_type": "markdown",
   "id": "608b94c6",
   "metadata": {},
   "source": [
    "## Decision Tree"
   ]
  },
  {
   "cell_type": "code",
   "execution_count": 11,
   "id": "2e3546e9",
   "metadata": {},
   "outputs": [],
   "source": [
    "from sklearn.tree import DecisionTreeClassifier\n",
    "dt = DecisionTreeClassifier(random_state = 0, criterion = 'entropy')\n",
    "dt.fit(X_train, Y_train)\n",
    "pickle.dump(dt, open('models/dt_model.pkl', 'wb'))"
   ]
  },
  {
   "cell_type": "code",
   "execution_count": 12,
   "id": "d2437745",
   "metadata": {},
   "outputs": [
    {
     "name": "stdout",
     "output_type": "stream",
     "text": [
      "Confusion Matrix:\n",
      "[[959  14]\n",
      " [ 22 120]]\n",
      "Accuracy: 0.967713004484305\n",
      "Precision: 0.8955223880597015\n",
      "Recall: 0.8450704225352113\n",
      "F1 Score: 0.8695652173913043\n",
      "R^2: 0.7094799009886658\n",
      "Mean Squared Error: 0.03228699551569507\n",
      "Mean Absolute Error: 0.03228699551569507\n",
      "Root Mean Square Error: 0.17968582447064396\n"
     ]
    }
   ],
   "source": [
    "dt_y_pred = dt.predict(X_test)\n",
    "\n",
    "conf = confusion_matrix(Y_test, dt_y_pred)\n",
    "print(\"Confusion Matrix:\")\n",
    "print(conf)\n",
    "dt_acc = accuracy_score(Y_test, dt_y_pred)\n",
    "print(\"Accuracy: \"+str(dt_acc))\n",
    "dt_pre = precision_score(Y_test, dt_y_pred)\n",
    "print(\"Precision: \"+str(dt_pre))\n",
    "dt_rec = recall_score(Y_test, dt_y_pred)\n",
    "print(\"Recall: \"+str(dt_rec))\n",
    "dt_f1 = f1_score(Y_test, dt_y_pred)\n",
    "print(\"F1 Score: \"+str(dt_f1))\n",
    "dt_R2 = r2_score(Y_test, dt_y_pred)\n",
    "print(\"R^2: \"+str(dt_R2))\n",
    "dt_mse = mean_squared_error(Y_test, dt_y_pred)\n",
    "print(\"Mean Squared Error: \"+str(dt_mse))\n",
    "dt_mae = mean_absolute_error(Y_test, dt_y_pred)\n",
    "print(\"Mean Absolute Error: \"+str(dt_mae))\n",
    "dt_rmse = sqrt(mean_squared_error(Y_test, dt_y_pred))\n",
    "print(\"Root Mean Square Error: \"+str(dt_rmse))"
   ]
  },
  {
   "cell_type": "code",
   "execution_count": 13,
   "id": "be8ab9e1",
   "metadata": {},
   "outputs": [
    {
     "data": {
      "text/plain": [
       "Text(0.5, 1.0, 'Evaluation Metrics for Decision Tree')"
      ]
     },
     "execution_count": 13,
     "metadata": {},
     "output_type": "execute_result"
    },
    {
     "data": {
      "image/png": "[encoded data removed]",
      "text/plain": [
       "<Figure size 432x288 with 1 Axes>"
      ]
     },
     "metadata": {
      "needs_background": "light"
     },
     "output_type": "display_data"
    }
   ],
   "source": [
    "plt.bar(['Acc','Prec','Recall','F1','MSE','MAE','RMSE','R^2'],[dt_acc,dt_pre,dt_rec,dt_f1,dt_mse,dt_mae,dt_rmse,dt_R2],color=['red','green','purple','orange','lavender','blue','grey'])\n",
    "plt.plot([dt_acc,dt_pre,dt_rec,dt_f1,dt_mse,dt_mae,dt_rmse,dt_R2],color='black')\n",
    "plt.title('Evaluation Metrics for Decision Tree')"
   ]
  },
  {
   "cell_type": "code",
   "execution_count": null,
   "id": "55b5eb9e",
   "metadata": {},
   "outputs": [],
   "source": []
  },
  {
   "cell_type": "markdown",
   "id": "da2a5721",
   "metadata": {},
   "source": [
    "## XGBoost"
   ]
  },
  {
   "cell_type": "code",
   "execution_count": 14,
   "id": "c6eb2189",
   "metadata": {},
   "outputs": [
    {
     "name": "stderr",
     "output_type": "stream",
     "text": [
      "C:\\ProgramData\\Anaconda3\\lib\\site-packages\\xgboost\\sklearn.py:1224: UserWarning: The use of label encoder in XGBClassifier is deprecated and will be removed in a future release. To remove this warning, do the following: 1) Pass option use_label_encoder=False when constructing XGBClassifier object; and 2) Encode your labels (y) as integers starting with 0, i.e. 0, 1, 2, ..., [num_class - 1].\n",
      "  warnings.warn(label_encoder_deprecation_msg, UserWarning)\n"
     ]
    },
    {
     "name": "stdout",
     "output_type": "stream",
     "text": [
      "[17:08:54] WARNING: C:/Users/Administrator/workspace/xgboost-win64_release_1.5.1/src/learner.cc:1115: Starting in XGBoost 1.3.0, the default evaluation metric used with the objective 'binary:logistic' was changed from 'error' to 'logloss'. Explicitly set eval_metric if you'd like to restore the old behavior.\n"
     ]
    }
   ],
   "source": [
    "from xgboost import XGBClassifier\n",
    "xg = XGBClassifier()\n",
    "xg.fit(X_train, Y_train)\n",
    "pickle.dump(xg, open('models/xg_model.pkl', 'wb'))"
   ]
  },
  {
   "cell_type": "code",
   "execution_count": 15,
   "id": "6f78baa0",
   "metadata": {},
   "outputs": [
    {
     "name": "stdout",
     "output_type": "stream",
     "text": [
      "Confusion Matrix:\n",
      "[[972   1]\n",
      " [ 18 124]]\n",
      "Accuracy: 0.9829596412556054\n",
      "Precision: 0.992\n",
      "Recall: 0.8732394366197183\n",
      "F1 Score: 0.9288389513108614\n",
      "R^2: 0.846669947744018\n",
      "Mean Squared Error: 0.017040358744394617\n",
      "Mean Absolute Error: 0.017040358744394617\n",
      "Root Mean Square Error: 0.13053872507572079\n"
     ]
    }
   ],
   "source": [
    "xg_y_pred = xg.predict(X_test)\n",
    "\n",
    "conf = confusion_matrix(Y_test, xg_y_pred)\n",
    "print(\"Confusion Matrix:\")\n",
    "print(conf)\n",
    "xg_acc = accuracy_score(Y_test, xg_y_pred)\n",
    "print(\"Accuracy: \"+str(xg_acc))\n",
    "xg_pre = precision_score(Y_test, xg_y_pred)\n",
    "print(\"Precision: \"+str(xg_pre))\n",
    "xg_rec = recall_score(Y_test, xg_y_pred)\n",
    "print(\"Recall: \"+str(xg_rec))\n",
    "xg_f1 = f1_score(Y_test, xg_y_pred)\n",
    "print(\"F1 Score: \"+str(xg_f1))\n",
    "xg_R2 = r2_score(Y_test, xg_y_pred)\n",
    "print(\"R^2: \"+str(xg_R2))\n",
    "xg_mse = mean_squared_error(Y_test, xg_y_pred)\n",
    "print(\"Mean Squared Error: \"+str(xg_mse))\n",
    "xg_mae = mean_absolute_error(Y_test, xg_y_pred)\n",
    "print(\"Mean Absolute Error: \"+str(xg_mae))\n",
    "xg_rmse = sqrt(mean_squared_error(Y_test, xg_y_pred))\n",
    "print(\"Root Mean Square Error: \"+str(xg_rmse))"
   ]
  },
  {
   "cell_type": "code",
   "execution_count": 16,
   "id": "8ffaa0d4",
   "metadata": {},
   "outputs": [
    {
     "data": {
      "text/plain": [
       "Text(0.5, 1.0, 'Evaluation Metrics for xGBoost')"
      ]
     },
     "execution_count": 16,
     "metadata": {},
     "output_type": "execute_result"
    },
    {
     "data": {
      "image/png": "[encoded data removed]",
      "text/plain": [
       "<Figure size 432x288 with 1 Axes>"
      ]
     },
     "metadata": {
      "needs_background": "light"
     },
     "output_type": "display_data"
    }
   ],
   "source": [
    "import matplotlib.pyplot as plt\n",
    "\n",
    "plt.bar(['Acc','Prec','Recall','F1','MSE','MAE','RMSE','R^2'],[xg_acc,xg_pre,xg_rec,xg_f1,xg_mse,xg_mae,xg_rmse,xg_R2],color=['red','green','purple','orange','lavender','blue','grey'])\n",
    "plt.plot([xg_acc,xg_pre,xg_rec,xg_f1,xg_mse,xg_mae,xg_rmse,xg_R2],color='black')\n",
    "plt.title('Evaluation Metrics for xGBoost')"
   ]
  },
  {
   "cell_type": "code",
   "execution_count": null,
   "id": "1f5c56cb",
   "metadata": {},
   "outputs": [],
   "source": []
  },
  {
   "cell_type": "markdown",
   "id": "b52eec91",
   "metadata": {},
   "source": [
    "## Multilayer Perceptron"
   ]
  },
  {
   "cell_type": "code",
   "execution_count": 17,
   "id": "8adf8b68",
   "metadata": {},
   "outputs": [],
   "source": [
    "from sklearn.neural_network import MLPClassifier\n",
    "mlp = MLPClassifier(random_state=1, max_iter=300)\n",
    "mlp.fit(X_train, Y_train)\n",
    "pickle.dump(mlp, open('models/mlp_model.pkl', 'wb'))"
   ]
  },
  {
   "cell_type": "code",
   "execution_count": 18,
   "id": "f532c8df",
   "metadata": {},
   "outputs": [
    {
     "name": "stdout",
     "output_type": "stream",
     "text": [
      "Confusion Matrix:\n",
      "[[970   3]\n",
      " [ 15 127]]\n",
      "Accuracy: 0.9838565022421525\n",
      "Precision: 0.9769230769230769\n",
      "Recall: 0.8943661971830986\n",
      "F1 Score: 0.9338235294117647\n",
      "R^2: 0.8547399504943329\n",
      "Mean Squared Error: 0.016143497757847534\n",
      "Mean Absolute Error: 0.016143497757847534\n",
      "Root Mean Square Error: 0.12705706496628802\n"
     ]
    }
   ],
   "source": [
    "mlp_y_pred = mlp.predict(X_test)\n",
    "\n",
    "conf = confusion_matrix(Y_test, mlp_y_pred)\n",
    "print(\"Confusion Matrix:\")\n",
    "print(conf)\n",
    "mlp_acc = accuracy_score(Y_test, mlp_y_pred)\n",
    "print(\"Accuracy: \"+str(mlp_acc))\n",
    "mlp_pre = precision_score(Y_test, mlp_y_pred)\n",
    "print(\"Precision: \"+str(mlp_pre))\n",
    "mlp_rec = recall_score(Y_test, mlp_y_pred)\n",
    "print(\"Recall: \"+str(mlp_rec))\n",
    "mlp_f1 = f1_score(Y_test, mlp_y_pred)\n",
    "print(\"F1 Score: \"+str(mlp_f1))\n",
    "mlp_R2 = r2_score(Y_test, mlp_y_pred)\n",
    "print(\"R^2: \"+str(mlp_R2))\n",
    "mlp_mse = mean_squared_error(Y_test, mlp_y_pred)\n",
    "print(\"Mean Squared Error: \"+str(mlp_mse))\n",
    "mlp_mae = mean_absolute_error(Y_test, mlp_y_pred)\n",
    "print(\"Mean Absolute Error: \"+str(mlp_mae))\n",
    "mlp_rmse = sqrt(mean_squared_error(Y_test, mlp_y_pred))\n",
    "print(\"Root Mean Square Error: \"+str(mlp_rmse))"
   ]
  },
  {
   "cell_type": "code",
   "execution_count": 19,
   "id": "354e9ae8",
   "metadata": {},
   "outputs": [
    {
     "data": {
      "text/plain": [
       "Text(0.5, 1.0, 'Evaluation Metrics for Multilayer Perceptron')"
      ]
     },
     "execution_count": 19,
     "metadata": {},
     "output_type": "execute_result"
    },
    {
     "data": {
      "image/png": "[encoded data removed]",
      "text/plain": [
       "<Figure size 432x288 with 1 Axes>"
      ]
     },
     "metadata": {
      "needs_background": "light"
     },
     "output_type": "display_data"
    }
   ],
   "source": [
    "plt.bar(['Acc','Prec','Recall','F1','MSE','MAE','RMSE','R^2'],[mlp_acc,mlp_pre,mlp_rec,mlp_f1,mlp_mse,mlp_mae,mlp_rmse,mlp_R2],color=['red','green','purple','orange','lavender','blue','grey'])\n",
    "plt.plot([mlp_acc,mlp_pre,mlp_rec,mlp_f1,mlp_mse,mlp_mae,mlp_rmse,mlp_R2],color='black')\n",
    "plt.title('Evaluation Metrics for Multilayer Perceptron')"
   ]
  },
  {
   "cell_type": "code",
   "execution_count": null,
   "id": "4ffbef20",
   "metadata": {},
   "outputs": [],
   "source": []
  },
  {
   "cell_type": "markdown",
   "id": "cb37be54",
   "metadata": {},
   "source": [
    "## Long Short Term Memory"
   ]
  },
  {
   "cell_type": "code",
   "execution_count": 37,
   "id": "a96924b8",
   "metadata": {},
   "outputs": [],
   "source": [
    "import tensorflow\n",
    "from tensorflow.keras.layers import Embedding, Flatten\n",
    "from tensorflow.keras.preprocessing.sequence import pad_sequences\n",
    "from tensorflow.keras.models import Sequential\n",
    "from tensorflow.keras.preprocessing.text import one_hot\n",
    "from tensorflow.keras.layers import LSTM\n",
    "from tensorflow.keras.layers import Dense\n",
    "\n",
    "onehot = [one_hot(words, 5000) for words in corpus]\n",
    "embedded = pad_sequences(onehot, maxlen=50, padding='pre')"
   ]
  },
  {
   "cell_type": "code",
   "execution_count": 38,
   "id": "12c40398",
   "metadata": {},
   "outputs": [
    {
     "name": "stdout",
     "output_type": "stream",
     "text": [
      "Model: \"sequential_4\"\n",
      "_________________________________________________________________\n",
      " Layer (type)                Output Shape              Param #   \n",
      "=================================================================\n",
      " embedding_4 (Embedding)     (None, 50, 400)           2000000   \n",
      "                                                                 \n",
      " lstm_4 (LSTM)               (None, 200)               480800    \n",
      "                                                                 \n",
      " flatten_4 (Flatten)         (None, 200)               0         \n",
      "                                                                 \n",
      " dense_4 (Dense)             (None, 1)                 201       \n",
      "                                                                 \n",
      "=================================================================\n",
      "Total params: 2,481,001\n",
      "Trainable params: 2,481,001\n",
      "Non-trainable params: 0\n",
      "_________________________________________________________________\n"
     ]
    }
   ],
   "source": [
    "lstm = Sequential()\n",
    "lstm.add(Embedding(5000, 400, input_length=50))\n",
    "lstm.add(LSTM(200))\n",
    "lstm.add(Flatten())\n",
    "lstm.add(Dense(1, activation='sigmoid'))\n",
    "lstm.compile(loss = 'categorical_crossentropy', optimizer='adam', metrics = ['accuracy'])\n",
    "lstm.summary()"
   ]
  },
  {
   "cell_type": "code",
   "execution_count": 39,
   "id": "3f7f4c76",
   "metadata": {},
   "outputs": [
    {
     "name": "stdout",
     "output_type": "stream",
     "text": [
      "Epoch 1/10\n",
      "53/53 [==============================] - 9s 138ms/step - loss: 0.0000e+00 - accuracy: 0.8642 - val_loss: 0.0000e+00 - val_accuracy: 0.8636\n",
      "Epoch 2/10\n",
      "53/53 [==============================] - 6s 113ms/step - loss: 0.0000e+00 - accuracy: 0.8675 - val_loss: 0.0000e+00 - val_accuracy: 0.8636\n",
      "Epoch 3/10\n",
      "53/53 [==============================] - 6s 114ms/step - loss: 0.0000e+00 - accuracy: 0.8675 - val_loss: 0.0000e+00 - val_accuracy: 0.8636\n",
      "Epoch 4/10\n",
      "53/53 [==============================] - 6s 113ms/step - loss: 0.0000e+00 - accuracy: 0.8675 - val_loss: 0.0000e+00 - val_accuracy: 0.8636\n",
      "Epoch 5/10\n",
      "53/53 [==============================] - 6s 113ms/step - loss: 0.0000e+00 - accuracy: 0.8675 - val_loss: 0.0000e+00 - val_accuracy: 0.8636\n",
      "Epoch 6/10\n",
      "53/53 [==============================] - 6s 113ms/step - loss: 0.0000e+00 - accuracy: 0.8675 - val_loss: 0.0000e+00 - val_accuracy: 0.8636\n",
      "Epoch 7/10\n",
      "53/53 [==============================] - 6s 112ms/step - loss: 0.0000e+00 - accuracy: 0.8675 - val_loss: 0.0000e+00 - val_accuracy: 0.8636\n",
      "Epoch 8/10\n",
      "53/53 [==============================] - 6s 114ms/step - loss: 0.0000e+00 - accuracy: 0.8675 - val_loss: 0.0000e+00 - val_accuracy: 0.8636\n",
      "Epoch 9/10\n",
      "53/53 [==============================] - 6s 114ms/step - loss: 0.0000e+00 - accuracy: 0.8675 - val_loss: 0.0000e+00 - val_accuracy: 0.8636\n",
      "Epoch 10/10\n",
      "53/53 [==============================] - 6s 113ms/step - loss: 0.0000e+00 - accuracy: 0.8675 - val_loss: 0.0000e+00 - val_accuracy: 0.8636\n"
     ]
    }
   ],
   "source": [
    "X_arr = np.array(embedded)\n",
    "Y_arr = np.array(Y)\n",
    "\n",
    "X_train, X_test, Y_train, Y_test = train_test_split(X_arr, Y_arr, test_size=0.4, random_state=45)\n",
    "lstm.fit(X_train, Y_train, validation_data=(X_test, Y_test), epochs=10, batch_size=64)\n",
    "lstm.save('models/lstm_model.h5')"
   ]
  },
  {
   "cell_type": "code",
   "execution_count": 31,
   "id": "34a5ba1d",
   "metadata": {},
   "outputs": [
    {
     "name": "stdout",
     "output_type": "stream",
     "text": [
      "Confusion Matrix:\n",
      "[[1925    0]\n",
      " [ 304    0]]\n",
      "Accuracy: 0.863615971287573\n",
      "Precision: 0.0\n",
      "Recall: 0.0\n",
      "F1 Score: 0.0\n",
      "R^2: -0.15792207792207802\n",
      "Mean Squared Error: 0.1363840287124271\n",
      "Mean Absolute Error: 0.1363840287124271\n",
      "Root Mean Square Error: 0.36930208327658687\n"
     ]
    },
    {
     "name": "stderr",
     "output_type": "stream",
     "text": [
      "C:\\ProgramData\\Anaconda3\\lib\\site-packages\\sklearn\\metrics\\_classification.py:1245: UndefinedMetricWarning: Precision is ill-defined and being set to 0.0 due to no predicted samples. Use `zero_division` parameter to control this behavior.\n",
      "  _warn_prf(average, modifier, msg_start, len(result))\n"
     ]
    }
   ],
   "source": [
    "lstm_y_pred = lstm.predict(x=X_test, verbose=0)\n",
    "\n",
    "conf = confusion_matrix(Y_test, lstm_y_pred)\n",
    "print(\"Confusion Matrix:\")\n",
    "print(conf)\n",
    "lstm_acc = accuracy_score(Y_test, lstm_y_pred)\n",
    "print(\"Accuracy: \"+str(lstm_acc))\n",
    "lstm_pre = precision_score(Y_test, lstm_y_pred)\n",
    "print(\"Precision: \"+str(lstm_pre))\n",
    "lstm_rec = recall_score(Y_test, lstm_y_pred)\n",
    "print(\"Recall: \"+str(lstm_rec))\n",
    "lstm_f1 = f1_score(Y_test, lstm_y_pred)\n",
    "print(\"F1 Score: \"+str(lstm_f1))\n",
    "lstm_R2 = r2_score(Y_test, lstm_y_pred)\n",
    "print(\"R^2: \"+str(lstm_R2))\n",
    "lstm_mse = mean_squared_error(Y_test, lstm_y_pred)\n",
    "print(\"Mean Squared Error: \"+str(lstm_mse))\n",
    "lstm_mae = mean_absolute_error(Y_test, lstm_y_pred)\n",
    "print(\"Mean Absolute Error: \"+str(lstm_mae))\n",
    "lstm_rmse = sqrt(mean_squared_error(Y_test, lstm_y_pred))\n",
    "print(\"Root Mean Square Error: \"+str(lstm_rmse))\n"
   ]
  },
  {
   "cell_type": "code",
   "execution_count": 32,
   "id": "d18c98c8",
   "metadata": {},
   "outputs": [
    {
     "data": {
      "text/plain": [
       "Text(0.5, 1.0, 'Evaluation Metrics for LSTM')"
      ]
     },
     "execution_count": 32,
     "metadata": {},
     "output_type": "execute_result"
    },
    {
     "data": {
      "image/png": "[encoded data removed]",
      "text/plain": [
       "<Figure size 432x288 with 1 Axes>"
      ]
     },
     "metadata": {
      "needs_background": "light"
     },
     "output_type": "display_data"
    }
   ],
   "source": [
    "plt.bar(['Acc','Prec','Recall','F1','MSE','MAE','RMSE','R^2'],[lstm_acc,lstm_pre,lstm_rec,lstm_f1,lstm_mse,lstm_mae,lstm_rmse,lstm_R2],color=['red','green','purple','orange','lavender','blue','grey'])\n",
    "plt.plot([lstm_acc,lstm_pre,lstm_rec,lstm_f1,lstm_mse,lstm_mae,lstm_rmse,lstm_R2],color='black')\n",
    "plt.title('Evaluation Metrics for LSTM')"
   ]
  },
  {
   "cell_type": "code",
   "execution_count": null,
   "id": "5cf7994d",
   "metadata": {},
   "outputs": [],
   "source": []
  },
  {
   "cell_type": "code",
   "execution_count": 40,
   "id": "0e2cbcd4",
   "metadata": {},
   "outputs": [
    {
     "data": {
      "text/plain": [
       "Text(0.5, 1.0, 'Comparison of Classification Techniques')"
      ]
     },
     "execution_count": 40,
     "metadata": {},
     "output_type": "execute_result"
    },
    {
     "data": {
      "image/png": "[encoded data removed]",
      "text/plain": [
       "<Figure size 432x288 with 1 Axes>"
      ]
     },
     "metadata": {
      "needs_background": "light"
     },
     "output_type": "display_data"
    }
   ],
   "source": [
    "plt.plot(['NB','DT','XG','MLP','LSTM'],[nb_acc,dt_acc,xg_acc,mlp_acc,lstm_acc],color='purple',marker='D')\n",
    "plt.plot(['NB','DT','XG','MLP','LSTM'],[nb_pre,dt_pre,xg_pre,mlp_pre,lstm_pre],color='red',marker='^')\n",
    "plt.plot(['NB','DT','XG','MLP','LSTM'],[nb_rec,dt_rec,xg_rec,mlp_rec,lstm_rec],color='blue',marker='s')\n",
    "plt.plot(['NB','DT','XG','MLP','LSTM'],[nb_f1,dt_f1,xg_f1,mlp_f1,lstm_f1],color='green',marker='P')\n",
    "plt.legend(('Accuracy','Precision','Recall','F1 Score'))\n",
    "plt.title('Comparison of Classification Techniques')"
   ]
  },
  {
   "cell_type": "code",
   "execution_count": null,
   "id": "ec51b584",
   "metadata": {},
   "outputs": [],
   "source": []
  },
  {
   "cell_type": "markdown",
   "id": "4f62e3f8",
   "metadata": {},
   "source": [
    "## Grid Search"
   ]
  },
  {
   "cell_type": "code",
   "execution_count": 26,
   "id": "ce166961",
   "metadata": {},
   "outputs": [
    {
     "data": {
      "text/plain": [
       "Pipeline(steps=[('tvec', TfidfVectorizer()), ('rf', RandomForestClassifier())])"
      ]
     },
     "execution_count": 26,
     "metadata": {},
     "output_type": "execute_result"
    }
   ],
   "source": [
    "X = np.array(corpus)\n",
    "X_train, X_test, Y_train, Y_test = train_test_split(X, Y, test_size = 0.2, random_state = 222)\n",
    "\n",
    "from sklearn.pipeline import Pipeline\n",
    "from sklearn.naive_bayes import MultinomialNB\n",
    "from sklearn.ensemble import RandomForestClassifier\n",
    "\n",
    "# Naive Bayesian pipeline\n",
    "nb_pipe = Pipeline([\n",
    " ('tvec', TfidfVectorizer()),\n",
    " ('mb', MultinomialNB())\n",
    "])\n",
    "\n",
    "nb_params = {\n",
    " 'tvec__max_features':[100, 2000],\n",
    " 'tvec__ngram_range': [(1, 1), (1, 2), (2, 2)],\n",
    " 'tvec__stop_words': [None, 'english'],\n",
    "}\n",
    "\n",
    "# Randomforest pipeline\n",
    "rf_pipe = Pipeline([\n",
    " ('tvec', TfidfVectorizer()),\n",
    " ('rf', RandomForestClassifier())\n",
    "])\n",
    "\n",
    "rf_params = {\n",
    " 'tvec__max_features':[2000],\n",
    " 'tvec__ngram_range': [(1, 2)],\n",
    " 'tvec__stop_words': ['english'],\n",
    " 'rf__max_depth': [1000],\n",
    " 'rf__min_samples_split': [100],\n",
    " 'rf__max_leaf_nodes': [None]\n",
    "}\n",
    "\n",
    "nb_pipe.fit(X_train, Y_train)\n",
    "rf_pipe.fit(X_train, Y_train)"
   ]
  },
  {
   "cell_type": "code",
   "execution_count": 27,
   "id": "d57aa356",
   "metadata": {},
   "outputs": [
    {
     "name": "stdout",
     "output_type": "stream",
     "text": [
      "Fitting 5 folds for each of 12 candidates, totalling 60 fits\n",
      "Fitting 5 folds for each of 1 candidates, totalling 5 fits\n"
     ]
    },
    {
     "data": {
      "text/plain": [
       "GridSearchCV(cv=5,\n",
       "             estimator=Pipeline(steps=[('tvec', TfidfVectorizer()),\n",
       "                                       ('rf', RandomForestClassifier())]),\n",
       "             n_jobs=-1,\n",
       "             param_grid={'rf__max_depth': [1000], 'rf__max_leaf_nodes': [None],\n",
       "                         'rf__min_samples_split': [100],\n",
       "                         'tvec__max_features': [2000],\n",
       "                         'tvec__ngram_range': [(1, 2)],\n",
       "                         'tvec__stop_words': ['english']},\n",
       "             verbose=1)"
      ]
     },
     "execution_count": 27,
     "metadata": {},
     "output_type": "execute_result"
    }
   ],
   "source": [
    "from sklearn.model_selection import GridSearchCV\n",
    "\n",
    "nb_grid = GridSearchCV(nb_pipe, param_grid=nb_params, cv = 5, verbose =1, n_jobs = -1)\n",
    "nb_grid.fit(X_train, Y_train)\n",
    "\n",
    "\n",
    "rf_grid = GridSearchCV(rf_pipe, param_grid=rf_params, cv = 5, verbose = 1, n_jobs = -1)\n",
    "rf_grid.fit(X_train, Y_train)"
   ]
  },
  {
   "cell_type": "code",
   "execution_count": 28,
   "id": "e7df768c",
   "metadata": {},
   "outputs": [
    {
     "data": {
      "text/plain": [
       "0.979372197309417"
      ]
     },
     "execution_count": 28,
     "metadata": {},
     "output_type": "execute_result"
    }
   ],
   "source": [
    "nb_grid.score(X_train, Y_train)\n",
    "nb_grid.score(X_test, Y_test)\n",
    "\n",
    "rf_grid.score(X_train, Y_train)\n",
    "rf_grid.score(X_test, Y_test)"
   ]
  },
  {
   "cell_type": "code",
   "execution_count": null,
   "id": "3e052a98",
   "metadata": {},
   "outputs": [],
   "source": []
  },
  {
   "cell_type": "markdown",
   "id": "c16375b9",
   "metadata": {},
   "source": [
    "## USER INPUT"
   ]
  },
  {
   "cell_type": "code",
   "execution_count": 46,
   "id": "41cd3a41",
   "metadata": {},
   "outputs": [],
   "source": [
    "naive_model = pickle.load(open('models/naive_model.pkl', 'rb'))\n",
    "dt_model = pickle.load(open('models/dt_model.pkl', 'rb'))\n",
    "xg_model = pickle.load(open('models/xg_model.pkl', 'rb'))\n",
    "mlp_model = pickle.load(open('models/mlp_model.pkl', 'rb'))\n",
    "lstm_model = load_model('models/lstm_model.h5')"
   ]
  },
  {
   "cell_type": "code",
   "execution_count": 137,
   "id": "4a856a23",
   "metadata": {},
   "outputs": [
    {
     "name": "stdout",
     "output_type": "stream",
     "text": [
      "Free entry in 2 a wkly comp to win FA Cup\n"
     ]
    }
   ],
   "source": [
    "text = str(input())\n",
    "corpus = []\n",
    "sms = re.sub('[^a-zA-Z]', ' ' ,text)\n",
    "sms = sms.lower()\n",
    "sms = sms.split()\n",
    "sms = [ps.stem(word) for word in sms if not word in set(stw.words('english'))]\n",
    "sms = ' '.join(sms)\n",
    "corpus.append(sms)\n",
    "\n",
    "cv = CountVectorizer(max_features = 10000) #Count Vectorization\n",
    "tfidf =  TfidfVectorizer(max_features=10000, ngram_range=(1,3)) #TFIDF Vectorization\n",
    "hvectorizer = HashingVectorizer(n_features=10000) #Hash Vectorization\n",
    "\n",
    "U = cv.fit_transform(corpus).toarray()"
   ]
  },
  {
   "cell_type": "code",
   "execution_count": 138,
   "id": "c98b3118",
   "metadata": {},
   "outputs": [
    {
     "data": {
      "text/plain": [
       "7"
      ]
     },
     "execution_count": 138,
     "metadata": {},
     "output_type": "execute_result"
    }
   ],
   "source": [
    "shape = list(U.shape)\n",
    "shape[1]\n",
    "\n",
    "padU = np.pad(U[0], (0,10000-shape[1]), 'constant', constant_values=(0, 0))\n",
    "newU = []\n",
    "newU.append(padU)\n",
    "arr = np.array(newU)\n",
    "padU.shape\n",
    "arr.shape"
   ]
  },
  {
   "cell_type": "code",
   "execution_count": 142,
   "id": "785f8360",
   "metadata": {},
   "outputs": [],
   "source": [
    "nbU = mlp_model.predict(arr)\n",
    "print(nbU)"
   ]
  }
 ],
 "metadata": {
  "kernelspec": {
   "display_name": "Python 3",
   "language": "python",
   "name": "python3"
  },
  "language_info": {
   "codemirror_mode": {
    "name": "ipython",
    "version": 3
   },
   "file_extension": ".py",
   "mimetype": "text/x-python",
   "name": "python",
   "nbconvert_exporter": "python",
   "pygments_lexer": "ipython3",
   "version": "3.8.8"
  }
 },
 "nbformat": 4,
 "nbformat_minor": 5
}
